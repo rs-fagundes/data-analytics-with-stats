{
 "cells": [
  {
   "cell_type": "code",
   "execution_count": null,
   "id": "09e341ab-5bde-41b8-b4fc-310d0387b1f8",
   "metadata": {},
   "outputs": [],
   "source": [
    "import pandas as pd\n",
    "import matplotlib.pyplot as plt\n",
    "import seaborn as sns\n",
    "\n",
    "# Carregar os dados do arquivo CSV\n",
    "file_path = \"./csv/AEVDT_6129___VMOS_Dashboard_Test.csv\"\n",
    "df = pd.read_csv(file_path)\n",
    "\n",
    "# Renomear colunas para garantir compatibilidade\n",
    "df.columns = [\"year\", \"month\", \"event_params_application_id\", \"count_users\"]\n",
    "\n",
    "# Agregar os valores duplicados por mês e aplicação somando os usuários\n",
    "df_grouped = df[df['year'] == 2024].groupby([\"year\", \"month\", \"event_params_application_id\"], as_index=False).sum()\n",
    "\n",
    "# Criar o ranking dentro de cada mês (menor número = melhor posição)\n",
    "df_grouped[\"rank\"] = df_grouped.groupby(\"month\")[\"count_users\"].rank(method=\"dense\", ascending=False)\n",
    "\n",
    "# Selecionar as 10 aplicações mais relevantes com base no ranking médio\n",
    "top_apps = df_grouped.groupby(\"event_params_application_id\")[\"rank\"].mean().nsmallest(10).index\n",
    "\n",
    "# Filtrar o DataFrame para incluir apenas essas aplicações\n",
    "df_filtered = df_grouped[df_grouped[\"event_params_application_id\"].isin(top_apps)]\n",
    "\n",
    "# Criar o gráfico de bump chart\n",
    "plt.figure(figsize=(12, 6))\n",
    "\n",
    "# Definir uma paleta de cores\n",
    "colors = sns.color_palette(\"husl\", n_colors=len(top_apps))\n",
    "\n",
    "# Criar as linhas do bump chart para cada aplicação\n",
    "for i, app in enumerate(top_apps):\n",
    "    app_data = df_filtered[df_filtered[\"event_params_application_id\"] == app]\n",
    "    plt.plot(app_data[\"month\"], app_data[\"rank\"], marker=\"o\", label=app, color=colors[i])\n",
    "\n",
    "# Ajustar o eixo Y para refletir ranking (1 no topo)\n",
    "plt.gca().invert_yaxis()\n",
    "\n",
    "# Adicionar labels e título\n",
    "plt.xticks(df_filtered[\"month\"].unique())\n",
    "plt.xlabel(\"Month\")\n",
    "plt.ylabel(\"Ranking\")\n",
    "plt.title(\"Top 10 event_params_application_id Over Months\")\n",
    "\n",
    "# Mostrar a legenda\n",
    "plt.legend(loc=\"upper left\", bbox_to_anchor=(1, 1))\n",
    "\n",
    "# Exibir o gráfico\n",
    "plt.show()\n"
   ]
  },
  {
   "cell_type": "code",
   "execution_count": null,
   "id": "f9724e5c-6993-40ed-9ff7-c59d631876f0",
   "metadata": {},
   "outputs": [],
   "source": [
    "import pandas as pd\n",
    "import plotly.express as px\n",
    "\n",
    "# Exemplo de dados\n",
    "data = pd.DataFrame({\n",
    "    'Year': [2020, 2020, 2020, 2021, 2021, 2021, 2022, 2022, 2022],\n",
    "    'Category': ['A', 'B', 'C', 'A', 'B', 'C', 'A', 'B', 'C'],\n",
    "    'Rank': [1, 2, 3, 2, 1, 3, 3, 1, 2]\n",
    "})\n",
    "\n",
    "# Criar bump chart\n",
    "fig = px.line(data, x='Year', y='Rank', color='Category', markers=True)\n",
    "fig.update_yaxes(autorange=\"reversed\")  # Inverter para manter 1 no topo\n",
    "fig.show()\n"
   ]
  },
  {
   "cell_type": "code",
   "execution_count": null,
   "id": "619a7fe7-7997-46c8-8086-d1e0996bfd0d",
   "metadata": {},
   "outputs": [],
   "source": [
    "import matplotlib.pyplot as plt\n",
    "import seaborn as sns\n",
    "\n",
    "# Criar bump chart\n",
    "plt.figure(figsize=(8, 5))\n",
    "sns.lineplot(data=data, x='Year', y='Rank', hue='Category', marker='o')\n",
    "\n",
    "# Inverter eixo Y para manter 1 no topo\n",
    "plt.gca().invert_yaxis()\n",
    "\n",
    "plt.title(\"Bump Chart\")\n",
    "plt.show()\n"
   ]
  },
  {
   "cell_type": "code",
   "execution_count": null,
   "id": "9d636f65-5efe-4c2b-9f3f-5933a790b8bb",
   "metadata": {},
   "outputs": [],
   "source": [
    "from pybump import BumpChart\n",
    "import pandas as pd\n",
    "\n",
    "data = pd.DataFrame({\n",
    "    \"Year\": [2020, 2021, 2022],\n",
    "    \"A\": [1, 2, 3],\n",
    "    \"B\": [2, 1, 1],\n",
    "    \"C\": [3, 3, 2]\n",
    "})\n",
    "\n",
    "chart = BumpChart(data, year_col=\"Year\")\n",
    "chart.plot()\n"
   ]
  }
 ],
 "metadata": {
  "kernelspec": {
   "display_name": "Python 3 (ipykernel)",
   "language": "python",
   "name": "python3"
  },
  "language_info": {
   "codemirror_mode": {
    "name": "ipython",
    "version": 3
   },
   "file_extension": ".py",
   "mimetype": "text/x-python",
   "name": "python",
   "nbconvert_exporter": "python",
   "pygments_lexer": "ipython3",
   "version": "3.13.1"
  }
 },
 "nbformat": 4,
 "nbformat_minor": 5
}
